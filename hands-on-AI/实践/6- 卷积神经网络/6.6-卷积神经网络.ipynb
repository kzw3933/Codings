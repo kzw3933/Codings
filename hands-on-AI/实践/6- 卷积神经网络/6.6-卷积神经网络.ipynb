{
 "cells": [
  {
   "cell_type": "code",
   "execution_count": 1,
   "metadata": {},
   "outputs": [],
   "source": [
    "import torch\n",
    "from torch import nn\n",
    "from torch.utils import data\n",
    "import torchvision\n",
    "from torchvision import transforms\n",
    "import numpy as np\n",
    "import matplotlib.pyplot as plt\n",
    "import time\n",
    "from IPython import display"
   ]
  },
  {
   "cell_type": "markdown",
   "metadata": {},
   "source": [
    "## LeNet"
   ]
  },
  {
   "cell_type": "code",
   "execution_count": 2,
   "metadata": {},
   "outputs": [],
   "source": [
    "net = nn.Sequential(\n",
    "    nn.Conv2d(1, 6, kernel_size=5, padding=2), nn.Sigmoid(),\n",
    "    nn.AvgPool2d(kernel_size=2, stride=2),\n",
    "    nn.Conv2d(6, 16, kernel_size=5), nn.Sigmoid(),\n",
    "    nn.AvgPool2d(kernel_size=2, stride=2),\n",
    "    nn.Flatten(),\n",
    "    nn.Linear(16*5*5, 120), nn.Sigmoid(),\n",
    "    nn.Linear(120, 84), nn.Sigmoid(),\n",
    "    nn.Linear(84, 10)\n",
    ")"
   ]
  },
  {
   "cell_type": "code",
   "execution_count": 3,
   "metadata": {},
   "outputs": [
    {
     "name": "stdout",
     "output_type": "stream",
     "text": [
      "Conv2d output shape: \ttorch.Size([1, 6, 28, 28])\n",
      "Sigmoid output shape: \ttorch.Size([1, 6, 28, 28])\n",
      "AvgPool2d output shape: \ttorch.Size([1, 6, 14, 14])\n",
      "Conv2d output shape: \ttorch.Size([1, 16, 10, 10])\n",
      "Sigmoid output shape: \ttorch.Size([1, 16, 10, 10])\n",
      "AvgPool2d output shape: \ttorch.Size([1, 16, 5, 5])\n",
      "Flatten output shape: \ttorch.Size([1, 400])\n",
      "Linear output shape: \ttorch.Size([1, 120])\n",
      "Sigmoid output shape: \ttorch.Size([1, 120])\n",
      "Linear output shape: \ttorch.Size([1, 84])\n",
      "Sigmoid output shape: \ttorch.Size([1, 84])\n",
      "Linear output shape: \ttorch.Size([1, 10])\n"
     ]
    }
   ],
   "source": [
    "X = torch.rand(size=(1,1,28,28), dtype=torch.float32)\n",
    "net.eval()\n",
    "for layer in net:\n",
    "    X = layer(X)\n",
    "    print(layer.__class__.__name__, f'output shape: \\t{X.shape}')"
   ]
  },
  {
   "cell_type": "markdown",
   "metadata": {},
   "source": [
    "## 模型训练"
   ]
  },
  {
   "cell_type": "code",
   "execution_count": 4,
   "metadata": {},
   "outputs": [],
   "source": [
    "def load_data_fashion_mnist(batch_size, resize=None):\n",
    "    \"\"\"下载Fashion-MNIST数据集, 然后将其加载到内存中\"\"\"\n",
    "    trans = [transforms.ToTensor()]\n",
    "    if resize:\n",
    "        trans.insert(0, transforms.Resize(resize))\n",
    "    trans = transforms.Compose(trans)\n",
    "    mnist_train = torchvision.datasets.FashionMNIST(\n",
    "        root=\"../data\", train=True, transform=trans, download=True\n",
    "    )\n",
    "    mnist_test = torchvision.datasets.FashionMNIST(\n",
    "        root=\"../data\", train=False, transform=trans, download=True\n",
    "    )\n",
    "    return (\n",
    "        data.DataLoader(mnist_train, batch_size, shuffle=True, num_workers=4),\n",
    "        data.DataLoader(mnist_test, batch_size, shuffle=False, num_workers=4)\n",
    "    )"
   ]
  },
  {
   "cell_type": "code",
   "execution_count": 5,
   "metadata": {},
   "outputs": [],
   "source": [
    "batch_size = 256\n",
    "train_iter, test_iter = load_data_fashion_mnist(batch_size)"
   ]
  },
  {
   "cell_type": "code",
   "execution_count": 6,
   "metadata": {},
   "outputs": [],
   "source": [
    "def accuracy(y_hat, y):\n",
    "    if len(y_hat.shape) > 1 and y_hat.shape[1] > 1:\n",
    "        y_hat = y_hat.argmax(axis=1)\n",
    "    cmp = y_hat.type(y.dtype) == y\n",
    "    return float(cmp.type(y.dtype).sum())"
   ]
  },
  {
   "cell_type": "code",
   "execution_count": 7,
   "metadata": {},
   "outputs": [],
   "source": [
    "class Accumulator:\n",
    "    def __init__(self, n):\n",
    "        self.data = [.0] * n\n",
    "    def add(self, *args):\n",
    "        self.data = [a+float(b) for a, b in zip(self.data, args)]\n",
    "    def reset(self):\n",
    "        self.data = [.0] * len(self.data)\n",
    "    def __getitem__(self, i):\n",
    "        return self.data[i]"
   ]
  },
  {
   "cell_type": "code",
   "execution_count": 8,
   "metadata": {},
   "outputs": [],
   "source": [
    "def evaluate_accuracy_gpu(net, data_iter, device=None):\n",
    "    \"\"\"使用GPU计算模型在数据集上的精度\"\"\"\n",
    "    if isinstance(net, nn.Module):\n",
    "        net.eval()\n",
    "        if not device:\n",
    "            device = next(net.parameters()).device\n",
    "    metric = Accumulator(2)\n",
    "    with torch.no_grad():\n",
    "        for X, y in data_iter:\n",
    "            if isinstance(X, list):\n",
    "                X = [x.to(device) for x in X]\n",
    "            else:\n",
    "                X = X.to(device)\n",
    "            y = y.to(device)\n",
    "            metric.add(accuracy(net(X), y), y.numel())\n",
    "    return metric[0] / metric[1]\n",
    "            "
   ]
  },
  {
   "cell_type": "code",
   "execution_count": 9,
   "metadata": {},
   "outputs": [
    {
     "data": {
      "text/plain": [
       "\"output\\n(OrderedDict([('0.weight',\\n               tensor([[-0.0716, -0.5472],\\n                       [ 0.5413, -0.0393],\\n                       [-0.3345,  0.3950]])),\\n              ('0.bias', tensor([-0.2480,  0.3593,  0.6091])),\\n              ('1.weight', tensor([[ 0.1163, -0.1248,  0.3258]])),\\n              ('1.bias', tensor([-0.1264]))]),\\n <generator object Module.parameters at 0x7fb3130cc200>,\\n <generator object Module.named_parameters at 0x7fb313236640>,\\n [Parameter containing:\\n  tensor([[-0.0716, -0.5472],\\n          [ 0.5413, -0.0393],\\n          [-0.3345,  0.3950]], requires_grad=True),\\n  Parameter containing:\\n  tensor([-0.2480,  0.3593,  0.6091], requires_grad=True),\\n  Parameter containing:\\n  tensor([[ 0.1163, -0.1248,  0.3258]], requires_grad=True),\\n  Parameter containing:\\n  tensor([-0.1264], requires_grad=True)],\\n [('0.weight',\\n   Parameter containing:\\n   tensor([[-0.0716, -0.5472],\\n           [ 0.5413, -0.0393],\\n           [-0.3345,  0.3950]], requires_grad=True)),\\n  ('0.bias',\\n   Parameter containing:\\n   tensor([-0.2480,  0.3593,  0.6091], requires_grad=True)),\\n  ('1.weight',\\n   Parameter containing:\\n   tensor([[ 0.1163, -0.1248,  0.3258]], requires_grad=True)),\\n  ('1.bias',\\n   Parameter containing:\\n   tensor([-0.1264], requires_grad=True))])\\n\""
      ]
     },
     "execution_count": 9,
     "metadata": {},
     "output_type": "execute_result"
    }
   ],
   "source": [
    "\"\"\"example\n",
    "net = nn.Sequential(\n",
    "    nn.Linear(2,3),\n",
    "    nn.Linear(3,1)\n",
    ")\n",
    "net.state_dict(), net.parameters(), net.named_parameters(), list(net.parameters()), list(net.named_parameters())\n",
    "\"\"\"\n",
    "\"\"\"output\n",
    "(OrderedDict([('0.weight',\n",
    "               tensor([[-0.0716, -0.5472],\n",
    "                       [ 0.5413, -0.0393],\n",
    "                       [-0.3345,  0.3950]])),\n",
    "              ('0.bias', tensor([-0.2480,  0.3593,  0.6091])),\n",
    "              ('1.weight', tensor([[ 0.1163, -0.1248,  0.3258]])),\n",
    "              ('1.bias', tensor([-0.1264]))]),\n",
    " <generator object Module.parameters at 0x7fb3130cc200>,\n",
    " <generator object Module.named_parameters at 0x7fb313236640>,\n",
    " [Parameter containing:\n",
    "  tensor([[-0.0716, -0.5472],\n",
    "          [ 0.5413, -0.0393],\n",
    "          [-0.3345,  0.3950]], requires_grad=True),\n",
    "  Parameter containing:\n",
    "  tensor([-0.2480,  0.3593,  0.6091], requires_grad=True),\n",
    "  Parameter containing:\n",
    "  tensor([[ 0.1163, -0.1248,  0.3258]], requires_grad=True),\n",
    "  Parameter containing:\n",
    "  tensor([-0.1264], requires_grad=True)],\n",
    " [('0.weight',\n",
    "   Parameter containing:\n",
    "   tensor([[-0.0716, -0.5472],\n",
    "           [ 0.5413, -0.0393],\n",
    "           [-0.3345,  0.3950]], requires_grad=True)),\n",
    "  ('0.bias',\n",
    "   Parameter containing:\n",
    "   tensor([-0.2480,  0.3593,  0.6091], requires_grad=True)),\n",
    "  ('1.weight',\n",
    "   Parameter containing:\n",
    "   tensor([[ 0.1163, -0.1248,  0.3258]], requires_grad=True)),\n",
    "  ('1.bias',\n",
    "   Parameter containing:\n",
    "   tensor([-0.1264], requires_grad=True))])\n",
    "\"\"\""
   ]
  },
  {
   "cell_type": "code",
   "execution_count": 10,
   "metadata": {},
   "outputs": [],
   "source": [
    "class Timer:\n",
    "    \"\"\"记录多次运行时间\"\"\"\n",
    "    def __init__(self):\n",
    "        self.times = []\n",
    "        self.start()\n",
    "    def start(self):\n",
    "        \"\"\"启动计时器\"\"\"\n",
    "        self.tik = time.time()\n",
    "    def stop(self):\n",
    "        \"\"\"停止计时器并将时间记录在列表中\"\"\"\n",
    "        self.times.append(time.time() - self.tik)\n",
    "        return self.times[-1]\n",
    "    def avg(self):\n",
    "        \"\"\"返回平均时间\"\"\"\n",
    "        return sum(self.times) / len(self.times)\n",
    "    def sum(self):\n",
    "        \"\"\"返回时间总和\"\"\"\n",
    "        return sum(self.times)\n",
    "    def cumsum(self):\n",
    "        \"\"\"返回累计时间\"\"\"\n",
    "        return np.cumsum(self.times).tolist()"
   ]
  },
  {
   "cell_type": "code",
   "execution_count": 11,
   "metadata": {},
   "outputs": [],
   "source": [
    "class Animator:\n",
    "    \"\"\"在动画中绘制数据\"\"\"\n",
    "    def __init__(self, xlabel=None, ylabel=None, xlim=None, ylim=None,\n",
    "                xscale='linear', yscale='linear', legend=None,\n",
    "                fmts=('-', 'm--', 'g-.', 'r:')):\n",
    "        ## 增量地绘制多条线\n",
    "        legend = [] if legend is None else legend\n",
    "        self.fig, self.axes = plt.gcf(), plt.gca()\n",
    "        self.config_axes = lambda: self.set_axes(xlabel, ylabel, xlim, ylim, xscale, yscale, legend) ## 使用lambda表达式捕获变量\n",
    "        self.X, self.Y, self.fmts = None, None, fmts\n",
    "\n",
    "    def set_axes(self, xlabel, ylabel, xlim, ylim, xscale, yscale, legend):\n",
    "        self.axes.set_xlabel(xlabel)\n",
    "        self.axes.set_ylabel(ylabel)\n",
    "        self.axes.set_xlim(xlim)\n",
    "        self.axes.set_ylim(ylim)\n",
    "        self.axes.set_xscale(xscale)\n",
    "        self.axes.set_yscale(yscale)\n",
    "        self.axes.legend(legend)\n",
    "        self.axes.grid()\n",
    "\n",
    "    def add(self, x, y):\n",
    "        \"\"\"向图表中添加多个数据点\"\"\"\n",
    "        y = [y] if not hasattr(y, \"__len__\") else y\n",
    "        x = [x] * len(y) if not hasattr(x, \"__len__\") else x\n",
    "        self.X = [[] for _ in range(len(y))] if self.X is None else self.X\n",
    "        self.Y = [[] for _ in range(len(y))] if self.Y is None else self.Y\n",
    "        for i, (a, b) in enumerate(zip(x, y)):\n",
    "            if a is not None and b is not None:\n",
    "                self.X[i].append(a)\n",
    "                self.Y[i].append(b)\n",
    "        self.axes.cla()\n",
    "        for x, y, fmt in zip(self.X, self.Y, self.fmts):\n",
    "            self.axes.plot(x, y, fmt)\n",
    "        self.config_axes()\n",
    "        display.display(self.fig)\n",
    "        display.clear_output(wait=True)"
   ]
  },
  {
   "cell_type": "code",
   "execution_count": 12,
   "metadata": {},
   "outputs": [],
   "source": [
    "def train(net, train_iter, test_iter, num_epochs, lr, device):\n",
    "    \"\"\"使用GPU训练模型\"\"\"\n",
    "    def init_weights(m):\n",
    "        if type(m) == nn.Linear or type(m) == nn.Conv2d:\n",
    "            nn.init.xavier_uniform_(m.weight)\n",
    "    net.apply(init_weights)\n",
    "    print('training on', device)\n",
    "    net.to(device)\n",
    "    optimizer = torch.optim.SGD(net.parameters(), lr=lr)\n",
    "    loss = nn.CrossEntropyLoss()\n",
    "    animator = Animator(xlabel='epoch', xlim=[1,num_epochs], \n",
    "                        legend=['train loss', 'train acc', 'test acc'])\n",
    "    timer, num_batches = Timer(), len(train_iter)\n",
    "    for epoch in range(num_epochs):\n",
    "        metric = Accumulator(3)\n",
    "        net.train()\n",
    "        for i, (X,y) in enumerate(train_iter):\n",
    "            timer.start()\n",
    "            optimizer.zero_grad()\n",
    "            X, y = X.to(device), y.to(device)\n",
    "            y_hat = net(X)\n",
    "            l = loss(y_hat, y)\n",
    "            l.backward()\n",
    "            optimizer.step()\n",
    "            with torch.no_grad():\n",
    "                metric.add(l*X.shape[0], accuracy(y_hat, y), X.shape[0])\n",
    "            timer.stop()\n",
    "            train_l = metric[0] / metric[2]\n",
    "            train_acc = metric[1] / metric[2]\n",
    "            if (i+1) % (num_batches//5) == 0 or i == num_batches-1:\n",
    "                animator.add(epoch+(i+1)/num_batches, (train_l, train_acc, None))\n",
    "            test_acc = evaluate_accuracy_gpu(net, test_iter)\n",
    "            animator.add(epoch+1, (None, None, test_acc))\n",
    "    print(f'loss {train_l:.3f}, train acc {train_acc:.3f}, '\n",
    "          f'test acc {test_acc:.3f}')\n",
    "    print(f'{metric[2]*num_epochs/timer.sum():.1f} examples/sec '\n",
    "          f'on {str(device)}')"
   ]
  },
  {
   "cell_type": "code",
   "execution_count": 13,
   "metadata": {},
   "outputs": [
    {
     "name": "stdout",
     "output_type": "stream",
     "text": [
      "loss 0.467, train acc 0.822, test acc 0.800\n",
      "3350.4 examples/sec on cpu\n"
     ]
    },
    {
     "data": {
      "image/png": "[encoded data removed]",
      "text/plain": [
       "<Figure size 640x480 with 1 Axes>"
      ]
     },
     "metadata": {},
     "output_type": "display_data"
    }
   ],
   "source": [
    "lr, num_epochs = 0.9, 10\n",
    "train(net, train_iter, test_iter, num_epochs, lr, torch.device('cpu'))"
   ]
  }
 ],
 "metadata": {
  "kernelspec": {
   "display_name": "base",
   "language": "python",
   "name": "python3"
  },
  "language_info": {
   "codemirror_mode": {
    "name": "ipython",
    "version": 3
   },
   "file_extension": ".py",
   "mimetype": "text/x-python",
   "name": "python",
   "nbconvert_exporter": "python",
   "pygments_lexer": "ipython3",
   "version": "3.11.5"
  }
 },
 "nbformat": 4,
 "nbformat_minor": 2
}
