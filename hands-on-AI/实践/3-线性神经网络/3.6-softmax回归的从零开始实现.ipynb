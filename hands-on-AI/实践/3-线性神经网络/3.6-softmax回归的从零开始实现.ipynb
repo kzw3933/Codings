{
 "cells": [
  {
   "cell_type": "code",
   "execution_count": 1,
   "metadata": {},
   "outputs": [],
   "source": [
    "import torch\n",
    "from IPython import display\n",
    "import torchvision\n",
    "from torch.utils import data\n",
    "from torchvision import transforms\n",
    "import matplotlib.pyplot as plt\n",
    "import numpy as np"
   ]
  },
  {
   "cell_type": "code",
   "execution_count": 2,
   "metadata": {},
   "outputs": [
    {
     "data": {
      "text/plain": [
       "'knowhow --- IPython\\nIPython是一个python的交互式shell,比默认的python shell好用得多,支持变量自动补全,自动缩进,支持bash shell命令,内置了许多很有用的功能和函数。\\n同时它也是利用Python进行科学计算和交互可视化的一个最佳的平台。\\n\\n1. IPython提供的两个主要组件\\n- 一个强大的python交互式shell \\n- 供Jupyter notebooks使用的一个Jupyter内核(IPython notebook)\\n\\n2. IPython的主要功能\\n- 运行ipython控制台 \\n- 使用ipython作为系统shell \\n- 使用历史输入(history) \\n- Tab补全 \\n- 使用%run命令运行脚本 \\n- 使用%timeit命令快速测量时间 \\n- 使用%pdb命令快速debug \\n- 使用pylab进行交互计算 \\n- 使用IPython Notegong\\n\\n3. IPython的使用\\n- 基础功能\\n    - Ctrl-p    或上箭头键 后向搜索命令历史中以当前输入的文本开头的命令\\n    - Ctrl-n    或下箭头键 前向搜索命令历史中以当前输入的文本开头的命令\\n    - Ctrl-r    按行读取的反向历史搜索（部分匹配）\\n    - Ctrl-shift-v   从剪贴板粘贴文本\\n    - Ctrl-c    中止当前正在执行的代码\\n    - Ctrl-a    将光标移动到行首\\n    - Ctrl-e    将光标移动到行尾\\n    - Ctrl-k    删除从光标开始至行尾的文本\\n    - Ctrl-u    清除当前行的所有文本译注12\\n    - Ctrl-f    将光标向前移动一个字符\\n    - Ctrl-b    将光标向后移动一个字符\\n    - Ctrl-l    清屏\\n- 高级功能\\n    TAB         自动补全\\n    ?           内省、命名空间搜索\\n    !           执行系统命令\\n    魔术命令%run,%paste,%timeit,%pda等\\n'"
      ]
     },
     "execution_count": 2,
     "metadata": {},
     "output_type": "execute_result"
    }
   ],
   "source": [
    "\"\"\"knowhow --- IPython\n",
    "IPython是一个python的交互式shell,比默认的python shell好用得多,支持变量自动补全,自动缩进,支持bash shell命令,内置了许多很有用的功能和函数。\n",
    "同时它也是利用Python进行科学计算和交互可视化的一个最佳的平台。\n",
    "\n",
    "1. IPython提供的两个主要组件\n",
    "- 一个强大的python交互式shell \n",
    "- 供Jupyter notebooks使用的一个Jupyter内核(IPython notebook)\n",
    "\n",
    "2. IPython的主要功能\n",
    "- 运行ipython控制台 \n",
    "- 使用ipython作为系统shell \n",
    "- 使用历史输入(history) \n",
    "- Tab补全 \n",
    "- 使用%run命令运行脚本 \n",
    "- 使用%timeit命令快速测量时间 \n",
    "- 使用%pdb命令快速debug \n",
    "- 使用pylab进行交互计算 \n",
    "- 使用IPython Notegong\n",
    "\n",
    "3. IPython的使用\n",
    "- 基础功能\n",
    "    - Ctrl-p    或上箭头键 后向搜索命令历史中以当前输入的文本开头的命令\n",
    "    - Ctrl-n    或下箭头键 前向搜索命令历史中以当前输入的文本开头的命令\n",
    "    - Ctrl-r    按行读取的反向历史搜索（部分匹配）\n",
    "    - Ctrl-shift-v   从剪贴板粘贴文本\n",
    "    - Ctrl-c    中止当前正在执行的代码\n",
    "    - Ctrl-a    将光标移动到行首\n",
    "    - Ctrl-e    将光标移动到行尾\n",
    "    - Ctrl-k    删除从光标开始至行尾的文本\n",
    "    - Ctrl-u    清除当前行的所有文本译注12\n",
    "    - Ctrl-f    将光标向前移动一个字符\n",
    "    - Ctrl-b    将光标向后移动一个字符\n",
    "    - Ctrl-l    清屏\n",
    "- 高级功能\n",
    "    TAB         自动补全\n",
    "    ?           内省、命名空间搜索\n",
    "    !           执行系统命令\n",
    "    魔术命令%run,%paste,%timeit,%pda等\n",
    "\"\"\""
   ]
  },
  {
   "cell_type": "markdown",
   "metadata": {},
   "source": [
    "## 初始化模型参数\n",
    "---"
   ]
  },
  {
   "cell_type": "code",
   "execution_count": 3,
   "metadata": {},
   "outputs": [],
   "source": [
    "def load_data_fashion_mnist(batch_size, resize=None):\n",
    "    \"\"\"下载Fashion-MNIST数据集, 然后将其加载到内存中\"\"\"\n",
    "    trans = [transforms.ToTensor()]\n",
    "    if resize:\n",
    "        trans.insert(0, transforms.Resize(resize))\n",
    "    trans = transforms.Compose(trans)\n",
    "    mnist_train = torchvision.datasets.FashionMNIST(\n",
    "        root=\"../data\", train=True, transform=trans, download=True\n",
    "    )\n",
    "    mnist_test = torchvision.datasets.FashionMNIST(\n",
    "        root=\"../data\", train=False, transform=trans, download=True\n",
    "    )\n",
    "    return (\n",
    "        data.DataLoader(mnist_train, batch_size, shuffle=True, num_workers=4),\n",
    "        data.DataLoader(mnist_test, batch_size, shuffle=False, num_workers=4)\n",
    "    )"
   ]
  },
  {
   "cell_type": "code",
   "execution_count": 4,
   "metadata": {},
   "outputs": [],
   "source": [
    "batch_size = 256\n",
    "train_iter, test_iter = load_data_fashion_mnist(batch_size)"
   ]
  },
  {
   "cell_type": "code",
   "execution_count": 5,
   "metadata": {},
   "outputs": [],
   "source": [
    "num_inputs = 784\n",
    "num_outputs = 10\n",
    "\n",
    "W = torch.normal(0, 0.01, size=(num_inputs, num_outputs), requires_grad=True)\n",
    "b = torch.zeros(num_outputs, requires_grad=True)"
   ]
  },
  {
   "cell_type": "markdown",
   "metadata": {},
   "source": [
    "## 定义softmax操作\n",
    "---"
   ]
  },
  {
   "cell_type": "code",
   "execution_count": 6,
   "metadata": {},
   "outputs": [],
   "source": [
    "def softmax(x):\n",
    "    x_exp = torch.exp(x)\n",
    "    return x_exp / torch.sum(x_exp, dim=1, keepdim=True)"
   ]
  },
  {
   "cell_type": "markdown",
   "metadata": {},
   "source": [
    "## 定义模型\n",
    "---"
   ]
  },
  {
   "cell_type": "code",
   "execution_count": 7,
   "metadata": {},
   "outputs": [],
   "source": [
    "def net(x):\n",
    "    return softmax(torch.matmul(x.reshape(-1, num_inputs), W)+b)"
   ]
  },
  {
   "cell_type": "markdown",
   "metadata": {},
   "source": [
    "## 定义损失函数\n",
    "---"
   ]
  },
  {
   "cell_type": "code",
   "execution_count": 8,
   "metadata": {},
   "outputs": [],
   "source": [
    "def cross_entroy(y_hat, y):\n",
    "    return -torch.log(y_hat[range(len(y_hat)), y])"
   ]
  },
  {
   "cell_type": "code",
   "execution_count": 9,
   "metadata": {},
   "outputs": [
    {
     "data": {
      "text/plain": [
       "'output\\n(tensor([[ 0.9568,  0.0165,  0.5633,  0.3450, -1.1059],\\n         [ 1.5407, -0.3733, -0.2387,  0.3086, -0.6114],\\n         [ 0.7368,  1.3331,  1.8366, -0.4504, -0.2660],\\n         [ 1.2109, -0.7283,  1.0464,  1.1585, -0.7540],\\n         [ 2.0568, -0.0037,  0.8874,  0.3056, -0.6380],\\n         [ 2.1674,  0.4144, -0.7552,  1.2589, -0.3872],\\n         [ 0.9762, -0.8907, -0.8214, -1.0713, -0.3745],\\n         [ 1.7990, -0.4993,  0.3134, -0.9953, -0.5868],\\n         [-0.4964, -0.8938, -1.8178,  1.0760,  1.3641],\\n         [ 0.4019, -0.0985,  1.1668,  1.2903,  0.8747],\\n         [ 1.4935,  0.4286, -0.2331, -0.1690, -1.0650],\\n         [-0.7906,  0.2829,  0.5133, -2.0722, -0.1678],\\n         [-0.0137,  0.4321, -1.1871,  0.9124, -1.4981],\\n         [-0.5089,  0.8068,  2.8300,  0.4376, -0.1408],\\n         [ 0.4557,  0.8142,  0.3764, -0.3519,  0.1430],\\n         [-0.8796, -0.3240,  0.1931, -0.1443, -0.8546],\\n         [-1.2208,  0.7864, -0.3126, -0.0674,  0.1372],\\n         [-0.8625,  1.2071, -1.1437, -0.4788, -0.0649],\\n         [ 0.9343,  1.5646, -1.2834,  0.8700,  1.7626],\\n         [ 1.1147,  1.7487,  1.3742,  0.2747, -0.1713]]),\\n tensor([4, 3, 1, 3, 2, 4, 4, 1, 1, 2, 2, 3, 2, 2, 0, 1, 0, 1, 3, 4]),\\n tensor([-1.1059,  0.3086,  1.3331,  1.1585,  0.8874, -0.3872, -0.3745, -0.4993,\\n         -0.8938,  1.1668, -0.2331, -2.0722, -1.1871,  2.8300,  0.4557, -0.3240,\\n         -1.2208,  1.2071,  0.8700, -0.1713]),\\n tensor([[-1.1059,  0.3450,  0.0165,  0.3450,  0.5633, -1.1059, -1.1059,  0.0165,\\n           0.0165,  0.5633,  0.5633,  0.3450,  0.5633,  0.5633,  0.9568,  0.0165,\\n           0.9568,  0.0165,  0.3450, -1.1059],\\n         [-0.6114,  0.3086, -0.3733,  0.3086, -0.2387, -0.6114, -0.6114, -0.3733,\\n          -0.3733, -0.2387, -0.2387,  0.3086, -0.2387, -0.2387,  1.5407, -0.3733,\\n           1.5407, -0.3733,  0.3086, -0.6114],\\n         [-0.2660, -0.4504,  1.3331, -0.4504,  1.8366, -0.2660, -0.2660,  1.3331,\\n           1.3331,  1.8366,  1.8366, -0.4504,  1.8366,  1.8366,  0.7368,  1.3331,\\n           0.7368,  1.3331, -0.4504, -0.2660],\\n         [-0.7540,  1.1585, -0.7283,  1.1585,  1.0464, -0.7540, -0.7540, -0.7283,\\n          -0.7283,  1.0464,  1.0464,  1.1585,  1.0464,  1.0464,  1.2109, -0.7283,\\n           1.2109, -0.7283,  1.1585, -0.7540],\\n         [-0.6380,  0.3056, -0.0037,  0.3056,  0.8874, -0.6380, -0.6380, -0.0037,\\n          -0.0037,  0.8874,  0.8874,  0.3056,  0.8874,  0.8874,  2.0568, -0.0037,\\n           2.0568, -0.0037,  0.3056, -0.6380],\\n         [-0.3872,  1.2589,  0.4144,  1.2589, -0.7552, -0.3872, -0.3872,  0.4144,\\n           0.4144, -0.7552, -0.7552,  1.2589, -0.7552, -0.7552,  2.1674,  0.4144,\\n           2.1674,  0.4144,  1.2589, -0.3872],\\n         [-0.3745, -1.0713, -0.8907, -1.0713, -0.8214, -0.3745, -0.3745, -0.8907,\\n          -0.8907, -0.8214, -0.8214, -1.0713, -0.8214, -0.8214,  0.9762, -0.8907,\\n           0.9762, -0.8907, -1.0713, -0.3745],\\n         [-0.5868, -0.9953, -0.4993, -0.9953,  0.3134, -0.5868, -0.5868, -0.4993,\\n          -0.4993,  0.3134,  0.3134, -0.9953,  0.3134,  0.3134,  1.7990, -0.4993,\\n           1.7990, -0.4993, -0.9953, -0.5868],\\n         [ 1.3641,  1.0760, -0.8938,  1.0760, -1.8178,  1.3641,  1.3641, -0.8938,\\n          -0.8938, -1.8178, -1.8178,  1.0760, -1.8178, -1.8178, -0.4964, -0.8938,\\n          -0.4964, -0.8938,  1.0760,  1.3641],\\n         [ 0.8747,  1.2903, -0.0985,  1.2903,  1.1668,  0.8747,  0.8747, -0.0985,\\n          -0.0985,  1.1668,  1.1668,  1.2903,  1.1668,  1.1668,  0.4019, -0.0985,\\n           0.4019, -0.0985,  1.2903,  0.8747],\\n         [-1.0650, -0.1690,  0.4286, -0.1690, -0.2331, -1.0650, -1.0650,  0.4286,\\n           0.4286, -0.2331, -0.2331, -0.1690, -0.2331, -0.2331,  1.4935,  0.4286,\\n           1.4935,  0.4286, -0.1690, -1.0650],\\n         [-0.1678, -2.0722,  0.2829, -2.0722,  0.5133, -0.1678, -0.1678,  0.2829,\\n           0.2829,  0.5133,  0.5133, -2.0722,  0.5133,  0.5133, -0.7906,  0.2829,\\n          -0.7906,  0.2829, -2.0722, -0.1678],\\n         [-1.4981,  0.9124,  0.4321,  0.9124, -1.1871, -1.4981, -1.4981,  0.4321,\\n           0.4321, -1.1871, -1.1871,  0.9124, -1.1871, -1.1871, -0.0137,  0.4321,\\n          -0.0137,  0.4321,  0.9124, -1.4981],\\n         [-0.1408,  0.4376,  0.8068,  0.4376,  2.8300, -0.1408, -0.1408,  0.8068,\\n           0.8068,  2.8300,  2.8300,  0.4376,  2.8300,  2.8300, -0.5089,  0.8068,\\n          -0.5089,  0.8068,  0.4376, -0.1408],\\n         [ 0.1430, -0.3519,  0.8142, -0.3519,  0.3764,  0.1430,  0.1430,  0.8142,\\n           0.8142,  0.3764,  0.3764, -0.3519,  0.3764,  0.3764,  0.4557,  0.8142,\\n           0.4557,  0.8142, -0.3519,  0.1430],\\n         [-0.8546, -0.1443, -0.3240, -0.1443,  0.1931, -0.8546, -0.8546, -0.3240,\\n          -0.3240,  0.1931,  0.1931, -0.1443,  0.1931,  0.1931, -0.8796, -0.3240,\\n          -0.8796, -0.3240, -0.1443, -0.8546],\\n         [ 0.1372, -0.0674,  0.7864, -0.0674, -0.3126,  0.1372,  0.1372,  0.7864,\\n           0.7864, -0.3126, -0.3126, -0.0674, -0.3126, -0.3126, -1.2208,  0.7864,\\n          -1.2208,  0.7864, -0.0674,  0.1372],\\n         [-0.0649, -0.4788,  1.2071, -0.4788, -1.1437, -0.0649, -0.0649,  1.2071,\\n           1.2071, -1.1437, -1.1437, -0.4788, -1.1437, -1.1437, -0.8625,  1.2071,\\n          -0.8625,  1.2071, -0.4788, -0.0649],\\n         [ 1.7626,  0.8700,  1.5646,  0.8700, -1.2834,  1.7626,  1.7626,  1.5646,\\n           1.5646, -1.2834, -1.2834,  0.8700, -1.2834, -1.2834,  0.9343,  1.5646,\\n           0.9343,  1.5646,  0.8700,  1.7626],\\n         [-0.1713,  0.2747,  1.7487,  0.2747,  1.3742, -0.1713, -0.1713,  1.7487,\\n           1.7487,  1.3742,  1.3742,  0.2747,  1.3742,  1.3742,  1.1147,  1.7487,\\n           1.1147,  1.7487,  0.2747, -0.1713]]))\\n'"
      ]
     },
     "execution_count": 9,
     "metadata": {},
     "output_type": "execute_result"
    }
   ],
   "source": [
    "\"\"\"example\n",
    "y = torch.randn(20, 5)\n",
    "z = torch.randint(0, 5, (20,))\n",
    "y, z, y[range(len(y)), z], y[:, z]\n",
    "\"\"\"\n",
    "\"\"\"output\n",
    "(tensor([[ 0.9568,  0.0165,  0.5633,  0.3450, -1.1059],\n",
    "         [ 1.5407, -0.3733, -0.2387,  0.3086, -0.6114],\n",
    "         [ 0.7368,  1.3331,  1.8366, -0.4504, -0.2660],\n",
    "         [ 1.2109, -0.7283,  1.0464,  1.1585, -0.7540],\n",
    "         [ 2.0568, -0.0037,  0.8874,  0.3056, -0.6380],\n",
    "         [ 2.1674,  0.4144, -0.7552,  1.2589, -0.3872],\n",
    "         [ 0.9762, -0.8907, -0.8214, -1.0713, -0.3745],\n",
    "         [ 1.7990, -0.4993,  0.3134, -0.9953, -0.5868],\n",
    "         [-0.4964, -0.8938, -1.8178,  1.0760,  1.3641],\n",
    "         [ 0.4019, -0.0985,  1.1668,  1.2903,  0.8747],\n",
    "         [ 1.4935,  0.4286, -0.2331, -0.1690, -1.0650],\n",
    "         [-0.7906,  0.2829,  0.5133, -2.0722, -0.1678],\n",
    "         [-0.0137,  0.4321, -1.1871,  0.9124, -1.4981],\n",
    "         [-0.5089,  0.8068,  2.8300,  0.4376, -0.1408],\n",
    "         [ 0.4557,  0.8142,  0.3764, -0.3519,  0.1430],\n",
    "         [-0.8796, -0.3240,  0.1931, -0.1443, -0.8546],\n",
    "         [-1.2208,  0.7864, -0.3126, -0.0674,  0.1372],\n",
    "         [-0.8625,  1.2071, -1.1437, -0.4788, -0.0649],\n",
    "         [ 0.9343,  1.5646, -1.2834,  0.8700,  1.7626],\n",
    "         [ 1.1147,  1.7487,  1.3742,  0.2747, -0.1713]]),\n",
    " tensor([4, 3, 1, 3, 2, 4, 4, 1, 1, 2, 2, 3, 2, 2, 0, 1, 0, 1, 3, 4]),\n",
    " tensor([-1.1059,  0.3086,  1.3331,  1.1585,  0.8874, -0.3872, -0.3745, -0.4993,\n",
    "         -0.8938,  1.1668, -0.2331, -2.0722, -1.1871,  2.8300,  0.4557, -0.3240,\n",
    "         -1.2208,  1.2071,  0.8700, -0.1713]),\n",
    " tensor([[-1.1059,  0.3450,  0.0165,  0.3450,  0.5633, -1.1059, -1.1059,  0.0165,\n",
    "           0.0165,  0.5633,  0.5633,  0.3450,  0.5633,  0.5633,  0.9568,  0.0165,\n",
    "           0.9568,  0.0165,  0.3450, -1.1059],\n",
    "         [-0.6114,  0.3086, -0.3733,  0.3086, -0.2387, -0.6114, -0.6114, -0.3733,\n",
    "          -0.3733, -0.2387, -0.2387,  0.3086, -0.2387, -0.2387,  1.5407, -0.3733,\n",
    "           1.5407, -0.3733,  0.3086, -0.6114],\n",
    "         [-0.2660, -0.4504,  1.3331, -0.4504,  1.8366, -0.2660, -0.2660,  1.3331,\n",
    "           1.3331,  1.8366,  1.8366, -0.4504,  1.8366,  1.8366,  0.7368,  1.3331,\n",
    "           0.7368,  1.3331, -0.4504, -0.2660],\n",
    "         [-0.7540,  1.1585, -0.7283,  1.1585,  1.0464, -0.7540, -0.7540, -0.7283,\n",
    "          -0.7283,  1.0464,  1.0464,  1.1585,  1.0464,  1.0464,  1.2109, -0.7283,\n",
    "           1.2109, -0.7283,  1.1585, -0.7540],\n",
    "         [-0.6380,  0.3056, -0.0037,  0.3056,  0.8874, -0.6380, -0.6380, -0.0037,\n",
    "          -0.0037,  0.8874,  0.8874,  0.3056,  0.8874,  0.8874,  2.0568, -0.0037,\n",
    "           2.0568, -0.0037,  0.3056, -0.6380],\n",
    "         [-0.3872,  1.2589,  0.4144,  1.2589, -0.7552, -0.3872, -0.3872,  0.4144,\n",
    "           0.4144, -0.7552, -0.7552,  1.2589, -0.7552, -0.7552,  2.1674,  0.4144,\n",
    "           2.1674,  0.4144,  1.2589, -0.3872],\n",
    "         [-0.3745, -1.0713, -0.8907, -1.0713, -0.8214, -0.3745, -0.3745, -0.8907,\n",
    "          -0.8907, -0.8214, -0.8214, -1.0713, -0.8214, -0.8214,  0.9762, -0.8907,\n",
    "           0.9762, -0.8907, -1.0713, -0.3745],\n",
    "         [-0.5868, -0.9953, -0.4993, -0.9953,  0.3134, -0.5868, -0.5868, -0.4993,\n",
    "          -0.4993,  0.3134,  0.3134, -0.9953,  0.3134,  0.3134,  1.7990, -0.4993,\n",
    "           1.7990, -0.4993, -0.9953, -0.5868],\n",
    "         [ 1.3641,  1.0760, -0.8938,  1.0760, -1.8178,  1.3641,  1.3641, -0.8938,\n",
    "          -0.8938, -1.8178, -1.8178,  1.0760, -1.8178, -1.8178, -0.4964, -0.8938,\n",
    "          -0.4964, -0.8938,  1.0760,  1.3641],\n",
    "         [ 0.8747,  1.2903, -0.0985,  1.2903,  1.1668,  0.8747,  0.8747, -0.0985,\n",
    "          -0.0985,  1.1668,  1.1668,  1.2903,  1.1668,  1.1668,  0.4019, -0.0985,\n",
    "           0.4019, -0.0985,  1.2903,  0.8747],\n",
    "         [-1.0650, -0.1690,  0.4286, -0.1690, -0.2331, -1.0650, -1.0650,  0.4286,\n",
    "           0.4286, -0.2331, -0.2331, -0.1690, -0.2331, -0.2331,  1.4935,  0.4286,\n",
    "           1.4935,  0.4286, -0.1690, -1.0650],\n",
    "         [-0.1678, -2.0722,  0.2829, -2.0722,  0.5133, -0.1678, -0.1678,  0.2829,\n",
    "           0.2829,  0.5133,  0.5133, -2.0722,  0.5133,  0.5133, -0.7906,  0.2829,\n",
    "          -0.7906,  0.2829, -2.0722, -0.1678],\n",
    "         [-1.4981,  0.9124,  0.4321,  0.9124, -1.1871, -1.4981, -1.4981,  0.4321,\n",
    "           0.4321, -1.1871, -1.1871,  0.9124, -1.1871, -1.1871, -0.0137,  0.4321,\n",
    "          -0.0137,  0.4321,  0.9124, -1.4981],\n",
    "         [-0.1408,  0.4376,  0.8068,  0.4376,  2.8300, -0.1408, -0.1408,  0.8068,\n",
    "           0.8068,  2.8300,  2.8300,  0.4376,  2.8300,  2.8300, -0.5089,  0.8068,\n",
    "          -0.5089,  0.8068,  0.4376, -0.1408],\n",
    "         [ 0.1430, -0.3519,  0.8142, -0.3519,  0.3764,  0.1430,  0.1430,  0.8142,\n",
    "           0.8142,  0.3764,  0.3764, -0.3519,  0.3764,  0.3764,  0.4557,  0.8142,\n",
    "           0.4557,  0.8142, -0.3519,  0.1430],\n",
    "         [-0.8546, -0.1443, -0.3240, -0.1443,  0.1931, -0.8546, -0.8546, -0.3240,\n",
    "          -0.3240,  0.1931,  0.1931, -0.1443,  0.1931,  0.1931, -0.8796, -0.3240,\n",
    "          -0.8796, -0.3240, -0.1443, -0.8546],\n",
    "         [ 0.1372, -0.0674,  0.7864, -0.0674, -0.3126,  0.1372,  0.1372,  0.7864,\n",
    "           0.7864, -0.3126, -0.3126, -0.0674, -0.3126, -0.3126, -1.2208,  0.7864,\n",
    "          -1.2208,  0.7864, -0.0674,  0.1372],\n",
    "         [-0.0649, -0.4788,  1.2071, -0.4788, -1.1437, -0.0649, -0.0649,  1.2071,\n",
    "           1.2071, -1.1437, -1.1437, -0.4788, -1.1437, -1.1437, -0.8625,  1.2071,\n",
    "          -0.8625,  1.2071, -0.4788, -0.0649],\n",
    "         [ 1.7626,  0.8700,  1.5646,  0.8700, -1.2834,  1.7626,  1.7626,  1.5646,\n",
    "           1.5646, -1.2834, -1.2834,  0.8700, -1.2834, -1.2834,  0.9343,  1.5646,\n",
    "           0.9343,  1.5646,  0.8700,  1.7626],\n",
    "         [-0.1713,  0.2747,  1.7487,  0.2747,  1.3742, -0.1713, -0.1713,  1.7487,\n",
    "           1.7487,  1.3742,  1.3742,  0.2747,  1.3742,  1.3742,  1.1147,  1.7487,\n",
    "           1.1147,  1.7487,  0.2747, -0.1713]]))\n",
    "\"\"\""
   ]
  },
  {
   "cell_type": "markdown",
   "metadata": {},
   "source": [
    "## 分类精度\n",
    "---"
   ]
  },
  {
   "cell_type": "code",
   "execution_count": 10,
   "metadata": {},
   "outputs": [],
   "source": [
    "def accuracy(y_hat, y):\n",
    "    if len(y_hat.shape) > 1 and y_hat.shape[1] > 1:\n",
    "        y_hat = y_hat.argmax(axis=1)\n",
    "    cmp = y_hat.type(y.dtype) == y\n",
    "    return float(cmp.type(y.dtype).sum())"
   ]
  },
  {
   "cell_type": "code",
   "execution_count": 11,
   "metadata": {},
   "outputs": [],
   "source": [
    "class Accumulator:\n",
    "    def __init__(self, n):\n",
    "        self.data = [.0] * n\n",
    "    def add(self, *args):\n",
    "        self.data = [a+float(b) for a, b in zip(self.data, args)]\n",
    "    def reset(self):\n",
    "        self.data = [.0] * len(self.data)\n",
    "    def __getitem__(self, i):\n",
    "        return self.data[i]"
   ]
  },
  {
   "cell_type": "code",
   "execution_count": 12,
   "metadata": {},
   "outputs": [],
   "source": [
    "def evaluate_accuracy(net, data_iter):\n",
    "    \"\"\"计算在指定数据集上模型的精度\"\"\"\n",
    "    metric = Accumulator(2)\n",
    "    with torch.no_grad():\n",
    "        for X, y in data_iter:\n",
    "            metric.add(accuracy(net(X), y), y.numel())\n",
    "    return metric[0] / metric[1]"
   ]
  },
  {
   "cell_type": "code",
   "execution_count": 13,
   "metadata": {},
   "outputs": [
    {
     "data": {
      "text/plain": [
       "0.1499"
      ]
     },
     "execution_count": 13,
     "metadata": {},
     "output_type": "execute_result"
    }
   ],
   "source": [
    "evaluate_accuracy(net, test_iter)"
   ]
  },
  {
   "cell_type": "markdown",
   "metadata": {},
   "source": [
    "## 训练\n",
    "---"
   ]
  },
  {
   "cell_type": "code",
   "execution_count": 14,
   "metadata": {},
   "outputs": [],
   "source": [
    "class Animator:\n",
    "    \"\"\"在动画中绘制数据\"\"\"\n",
    "    def __init__(self, xlabel=None, ylabel=None, xlim=None, ylim=None,\n",
    "                xscale='linear', yscale='linear', legend=None,\n",
    "                fmts=('-', 'm--', 'g-.', 'r:')):\n",
    "        ## 增量地绘制多条线\n",
    "        legend = [] if legend is None else legend\n",
    "        self.fig, self.axes = plt.gcf(), plt.gca()\n",
    "        self.config_axes = lambda: self.set_axes(xlabel, ylabel, xlim, ylim, xscale, yscale, legend) ## 使用lambda表达式捕获变量\n",
    "        self.X, self.Y, self.fmts = None, None, fmts\n",
    "\n",
    "    def set_axes(self, xlabel, ylabel, xlim, ylim, xscale, yscale, legend):\n",
    "        self.axes.set_xlabel(xlabel)\n",
    "        self.axes.set_ylabel(ylabel)\n",
    "        self.axes.set_xlim(xlim)\n",
    "        self.axes.set_ylim(ylim)\n",
    "        self.axes.set_xscale(xscale)\n",
    "        self.axes.set_yscale(yscale)\n",
    "        self.axes.legend(legend)\n",
    "        self.axes.grid()\n",
    "\n",
    "    def add(self, x, y):\n",
    "        \"\"\"向图表中添加多个数据点\"\"\"\n",
    "        y = [y] if not hasattr(y, \"__len__\") else y\n",
    "        x = [x] * len(y) if not hasattr(x, \"__len__\") else x\n",
    "        self.X = [[] for _ in range(len(y))] if self.X is None else self.X\n",
    "        self.Y = [[] for _ in range(len(y))] if self.Y is None else self.Y\n",
    "        for i, (a, b) in enumerate(zip(x, y)):\n",
    "            if a is not None and b is not None:\n",
    "                self.X[i].append(a)\n",
    "                self.Y[i].append(b)\n",
    "        self.axes.cla()\n",
    "        for x, y, fmt in zip(self.X, self.Y, self.fmts):\n",
    "            self.axes.plot(x, y, fmt)\n",
    "        self.config_axes()\n",
    "        display.display(self.fig)\n",
    "        display.clear_output(wait=True)"
   ]
  },
  {
   "cell_type": "code",
   "execution_count": 15,
   "metadata": {},
   "outputs": [],
   "source": [
    "def train_epoch(net, train_iter, loss, updater):\n",
    "    \"\"\"训练模型一个迭代周期\"\"\"\n",
    "    metric = Accumulator(3)\n",
    "    for X, y in train_iter:\n",
    "        y_hat = net(X)\n",
    "        l = loss(y_hat, y)\n",
    "        l.sum().backward()\n",
    "        updater(X.shape[0])\n",
    "        metric.add(float(l.sum()), accuracy(y_hat, y), y.numel())\n",
    "    return metric[0] / metric[2], metric[1] / metric[2]"
   ]
  },
  {
   "cell_type": "code",
   "execution_count": 16,
   "metadata": {},
   "outputs": [],
   "source": [
    "def train(net, train_iter, test_iter, loss, num_epochs, updater):\n",
    "    \"\"\"训练模型\"\"\"\n",
    "    animator = Animator(xlabel='epoch', xlim=[1,num_epochs], ylim=[0.3,0.9],\n",
    "                        legend=['train loss', 'train acc', 'test acc'])\n",
    "    for epoch in range(num_epochs):\n",
    "        train_metrics = train_epoch(net, train_iter, loss, updater)\n",
    "        test_acc = evaluate_accuracy(net, test_iter)\n",
    "        animator.add(epoch + 1, (train_metrics + (test_acc,)))\n",
    "    train_loss, train_acc = train_metrics\n",
    "    assert train_loss < 0.5, train_loss\n",
    "    assert train_acc <= 1 and train_acc > 0.7, train_acc\n",
    "    assert test_acc <= 1 and test_acc > 0.7, test_acc"
   ]
  },
  {
   "cell_type": "code",
   "execution_count": 17,
   "metadata": {},
   "outputs": [],
   "source": [
    "lr = 0.1\n",
    "def updater(batch_size):\n",
    "    def sgd(params, lr, batch_size):\n",
    "        with torch.no_grad():\n",
    "            for param in params:\n",
    "                param -= lr * param.grad / batch_size\n",
    "                param.grad.zero_()\n",
    "    return sgd([W, b], lr, batch_size)"
   ]
  },
  {
   "cell_type": "code",
   "execution_count": 18,
   "metadata": {},
   "outputs": [
    {
     "data": {
      "image/png": "[encoded data removed]",
      "text/plain": [
       "<Figure size 640x480 with 1 Axes>"
      ]
     },
     "metadata": {},
     "output_type": "display_data"
    }
   ],
   "source": [
    "num_epochs = 10\n",
    "train(net, train_iter, test_iter, \\\n",
    "      cross_entroy, num_epochs, updater)"
   ]
  },
  {
   "cell_type": "markdown",
   "metadata": {},
   "source": [
    "## 预测\n",
    "---"
   ]
  },
  {
   "cell_type": "code",
   "execution_count": 19,
   "metadata": {},
   "outputs": [],
   "source": [
    "def get_fashion_mnist_labels(labels):\n",
    "    \"\"\"返回Fashion-MNIST数据集的文本标签\"\"\"\n",
    "    text_labels = ['t-shirt', 'trouser', 'pullover', 'dress', 'coat',\n",
    "                   'sandal','shirt', 'sneaker', 'bag', 'ankle boot']\n",
    "    return [text_labels[int(i)] for i in labels]"
   ]
  },
  {
   "cell_type": "code",
   "execution_count": 20,
   "metadata": {},
   "outputs": [],
   "source": [
    "def show_images(imgs, num_rows, num_cols, titles=None, scale=1.5):\n",
    "    \"\"\"绘制图像列表\"\"\"\n",
    "    figsize = (num_cols*scale, num_rows*scale)\n",
    "    _, axes = plt.subplots(num_rows, num_cols, figsize=figsize)\n",
    "    axes = axes.flatten()\n",
    "    for i, (ax, img) in enumerate(zip(axes, imgs)):\n",
    "        ax.imshow(img.numpy() if torch.is_tensor(img) else img)\n",
    "        ax.axes.get_xaxis().set_visible(False)\n",
    "        ax.axes.get_yaxis().set_visible(False)\n",
    "        if titles is not None:\n",
    "            ax.set_title(titles[i])\n",
    "    return axes"
   ]
  },
  {
   "cell_type": "code",
   "execution_count": 21,
   "metadata": {},
   "outputs": [],
   "source": [
    "def predict(net, test_iter, n=6):\n",
    "    \"\"\"预测标签\"\"\"\n",
    "    for X, y in test_iter:\n",
    "        break\n",
    "    trues = get_fashion_mnist_labels(y)\n",
    "    preds = get_fashion_mnist_labels(net(X).argmax(axis=1))\n",
    "    titles = [true + '\\n' + pred for true, pred in zip(trues, preds)]\n",
    "    show_images(X[0:n].reshape((n, 28, 28)), 1, n, titles=titles[0:n])"
   ]
  },
  {
   "cell_type": "code",
   "execution_count": 22,
   "metadata": {},
   "outputs": [
    {
     "data": {
      "image/png": "[encoded data removed]",
      "text/plain": [
       "<Figure size 900x150 with 6 Axes>"
      ]
     },
     "metadata": {},
     "output_type": "display_data"
    }
   ],
   "source": [
    "predict(net, test_iter)"
   ]
  },
  {
   "cell_type": "markdown",
   "metadata": {},
   "source": [
    "## Exercises\n",
    "---"
   ]
  },
  {
   "cell_type": "markdown",
   "metadata": {},
   "source": [
    "1. 本节直接实现了基于数学定义softmax运算的softmax函数。这可能会导致什么问题？提示：尝试计算$exp(50)$的大小"
   ]
  },
  {
   "cell_type": "markdown",
   "metadata": {},
   "source": [
    "2. 本节中的函数cross_entropy是根据交叉熵损失函数的定义实现的。它可能有什么问题？提示：考虑对数的定义域"
   ]
  },
  {
   "cell_type": "markdown",
   "metadata": {},
   "source": [
    "3. 请想一个解决方案来解决上述两个问题"
   ]
  },
  {
   "cell_type": "markdown",
   "metadata": {},
   "source": [
    "4. 返回概率最大的分类标签总是最优解吗？例如，医疗诊断场景下可以这样做吗?"
   ]
  },
  {
   "cell_type": "markdown",
   "metadata": {},
   "source": [
    "5. 假设我们使用softmax回归来预测下一个单词，可选取的单词数目过多可能会带来哪些问题?"
   ]
  }
 ],
 "metadata": {
  "kernelspec": {
   "display_name": "base",
   "language": "python",
   "name": "python3"
  },
  "language_info": {
   "codemirror_mode": {
    "name": "ipython",
    "version": 3
   },
   "file_extension": ".py",
   "mimetype": "text/x-python",
   "name": "python",
   "nbconvert_exporter": "python",
   "pygments_lexer": "ipython3",
   "version": "3.11.5"
  }
 },
 "nbformat": 4,
 "nbformat_minor": 2
}
