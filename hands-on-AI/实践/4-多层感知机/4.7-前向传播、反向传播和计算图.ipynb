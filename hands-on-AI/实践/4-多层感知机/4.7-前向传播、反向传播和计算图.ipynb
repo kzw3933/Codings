{
 "cells": [
  {
   "cell_type": "markdown",
   "metadata": {},
   "source": [
    "## 前向传播"
   ]
  },
  {
   "cell_type": "markdown",
   "metadata": {},
   "source": [
    "## 前向传播计算图"
   ]
  },
  {
   "cell_type": "markdown",
   "metadata": {},
   "source": [
    "## 反向传播"
   ]
  },
  {
   "cell_type": "markdown",
   "metadata": {},
   "source": [
    "## 训练神经网络"
   ]
  },
  {
   "cell_type": "markdown",
   "metadata": {},
   "source": [
    "## Exercises"
   ]
  },
  {
   "cell_type": "markdown",
   "metadata": {},
   "source": [
    "1. 假设一些标量函数$f(X)$的输入X是$n * m$矩阵。$f$相对于$X$的梯度维数是多少"
   ]
  },
  {
   "cell_type": "markdown",
   "metadata": {},
   "source": [
    "2. 向本节中描述的模型的隐藏层添加偏置项（不需要在正则化项中包含偏置项）\n",
    "    - 画出相应的计算图\n",
    "    - 推导正向和反向传播方程"
   ]
  },
  {
   "cell_type": "markdown",
   "metadata": {},
   "source": [
    "3. 计算本节所描述的模型，用于训练和预测的内存占用"
   ]
  },
  {
   "cell_type": "markdown",
   "metadata": {},
   "source": [
    "4. 假设想计算二阶导数。计算图发生了什么？预计计算需要多长时间？"
   ]
  },
  {
   "cell_type": "markdown",
   "metadata": {},
   "source": [
    "5. 假设计算图对当前拥有的GPU来说太大了\n",
    "    - 请试着把它划分到多个GPU上\n",
    "    - 与小批量训练相比，有哪些优点和缺点"
   ]
  }
 ],
 "metadata": {
  "language_info": {
   "name": "python"
  }
 },
 "nbformat": 4,
 "nbformat_minor": 2
}
