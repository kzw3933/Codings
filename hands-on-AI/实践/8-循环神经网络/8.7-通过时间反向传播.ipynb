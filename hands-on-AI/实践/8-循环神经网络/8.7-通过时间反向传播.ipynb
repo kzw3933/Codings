{
 "cells": [
  {
   "cell_type": "markdown",
   "metadata": {},
   "source": [
    "## 循环神经网络的梯度分析"
   ]
  },
  {
   "cell_type": "markdown",
   "metadata": {},
   "source": [
    "## 通过时间反向传播的细节"
   ]
  },
  {
   "cell_type": "markdown",
   "metadata": {},
   "source": [
    "## Exercises"
   ]
  },
  {
   "cell_type": "markdown",
   "metadata": {},
   "source": [
    "1. 假设我们拥有一个对称矩阵$M \\in R^{n*n}$，其特征值为$\\lambda_i$，对应的特征向量是$v_i(i = 1, ..., n)$。通常情况下，假设特征值的序列顺序为$|\\lambda_i| \\geq |\\lambda_{i+1}|$\n",
    "   - 证明$M^k$拥有特征值$\\lambda_i^k$\n",
    "   - 证明对于一个随机向量$x \\in R^n$，$M^kx$将有较高概率与$M$的特征向量$v_1$在一条直线上。形式化这个证明过程\n",
    "   - 上述结果对于循环神经网络中的梯度意味着什么？\n"
   ]
  },
  {
   "cell_type": "markdown",
   "metadata": {},
   "source": [
    "2. 除了梯度截断，还有其他方法来应对循环神经网络中的梯度爆炸吗？"
   ]
  }
 ],
 "metadata": {
  "language_info": {
   "name": "python"
  }
 },
 "nbformat": 4,
 "nbformat_minor": 2
}
