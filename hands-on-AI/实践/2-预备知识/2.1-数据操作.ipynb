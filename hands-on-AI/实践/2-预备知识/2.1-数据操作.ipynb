{
 "cells": [
  {
   "cell_type": "code",
   "execution_count": 76,
   "metadata": {},
   "outputs": [],
   "source": [
    "import torch"
   ]
  },
  {
   "cell_type": "markdown",
   "metadata": {},
   "source": [
    "### Tensor创建\n",
    "---"
   ]
  },
  {
   "cell_type": "code",
   "execution_count": 77,
   "metadata": {},
   "outputs": [
    {
     "data": {
      "text/plain": [
       "(tensor([ 0,  1,  2,  3,  4,  5,  6,  7,  8,  9, 10, 11]),\n",
       " tensor([ 0,  1,  2,  3,  4,  5,  6,  7,  8,  9, 10, 11]))"
      ]
     },
     "execution_count": 77,
     "metadata": {},
     "output_type": "execute_result"
    }
   ],
   "source": [
    "torch.arange(12), torch.arange(0,12)"
   ]
  },
  {
   "cell_type": "code",
   "execution_count": 78,
   "metadata": {},
   "outputs": [
    {
     "data": {
      "text/plain": [
       "(tensor([0.0000, 0.0909, 0.1818, 0.2727, 0.3636, 0.4545, 0.5455, 0.6364, 0.7273,\n",
       "         0.8182, 0.9091, 1.0000]),\n",
       " tensor([ 0,  2,  4,  6,  8, 10, 12]))"
      ]
     },
     "execution_count": 78,
     "metadata": {},
     "output_type": "execute_result"
    }
   ],
   "source": [
    "torch.linspace(0, 1, 12), torch.linspace(0, 12, 7, dtype=torch.int64)"
   ]
  },
  {
   "cell_type": "code",
   "execution_count": 79,
   "metadata": {},
   "outputs": [
    {
     "data": {
      "text/plain": [
       "(torch.Size([2, 3]), torch.Size([2, 3]), 6, tensor([1, 2, 3, 2, 3, 4]))"
      ]
     },
     "execution_count": 79,
     "metadata": {},
     "output_type": "execute_result"
    }
   ],
   "source": [
    "x = torch.tensor([[1,2,3],[2,3,4]])\n",
    "x.shape, x.size(), x.numel(), x.reshape(-1)"
   ]
  },
  {
   "cell_type": "code",
   "execution_count": 80,
   "metadata": {},
   "outputs": [
    {
     "data": {
      "text/plain": [
       "(tensor([[[0., 0., 0., 0.],\n",
       "          [0., 0., 0., 0.],\n",
       "          [0., 0., 0., 0.]],\n",
       " \n",
       "         [[0., 0., 0., 0.],\n",
       "          [0., 0., 0., 0.],\n",
       "          [0., 0., 0., 0.]]]),\n",
       " tensor([[[1., 1., 1., 1.],\n",
       "          [1., 1., 1., 1.],\n",
       "          [1., 1., 1., 1.]],\n",
       " \n",
       "         [[1., 1., 1., 1.],\n",
       "          [1., 1., 1., 1.],\n",
       "          [1., 1., 1., 1.]]]))"
      ]
     },
     "execution_count": 80,
     "metadata": {},
     "output_type": "execute_result"
    }
   ],
   "source": [
    "torch.zeros((2,3,4)), torch.ones((2,3,4))"
   ]
  },
  {
   "cell_type": "code",
   "execution_count": 81,
   "metadata": {},
   "outputs": [
    {
     "data": {
      "text/plain": [
       "(tensor([[0, 0, 0, 0],\n",
       "         [0, 0, 0, 0],\n",
       "         [0, 0, 0, 0]]),\n",
       " tensor([[1, 1, 1, 1],\n",
       "         [1, 1, 1, 1],\n",
       "         [1, 1, 1, 1]]))"
      ]
     },
     "execution_count": 81,
     "metadata": {},
     "output_type": "execute_result"
    }
   ],
   "source": [
    "x = torch.arange(12).reshape(3,4)\n",
    "torch.zeros_like(x), torch.ones_like(x)"
   ]
  },
  {
   "cell_type": "code",
   "execution_count": 82,
   "metadata": {},
   "outputs": [
    {
     "data": {
      "text/plain": [
       "(tensor([[-0.5507, -1.7433, -0.6381,  0.3876],\n",
       "         [ 0.9016,  1.1562,  0.4556, -0.3400],\n",
       "         [ 0.8122,  0.8035, -0.3403, -1.2145]]),\n",
       " tensor([[0.1358, 0.4363, 0.2926, 0.1643],\n",
       "         [0.7649, 0.5035, 0.3782, 0.0620],\n",
       "         [0.1953, 0.2775, 0.4227, 0.2131]]),\n",
       " tensor([[4, 7, 8, 8],\n",
       "         [6, 8, 0, 1],\n",
       "         [6, 8, 6, 5]]))"
      ]
     },
     "execution_count": 82,
     "metadata": {},
     "output_type": "execute_result"
    }
   ],
   "source": [
    "torch.randn((3,4)), torch.rand((3,4)), torch.randint(0,12,(3,4))"
   ]
  },
  {
   "cell_type": "code",
   "execution_count": 83,
   "metadata": {},
   "outputs": [
    {
     "data": {
      "text/plain": [
       "tensor([[1., 0., 0.],\n",
       "        [0., 1., 0.],\n",
       "        [0., 0., 1.]])"
      ]
     },
     "execution_count": 83,
     "metadata": {},
     "output_type": "execute_result"
    }
   ],
   "source": [
    "torch.eye(3)"
   ]
  },
  {
   "cell_type": "markdown",
   "metadata": {},
   "source": [
    "## Tensor运算\n",
    "---"
   ]
  },
  {
   "cell_type": "code",
   "execution_count": 84,
   "metadata": {},
   "outputs": [
    {
     "data": {
      "text/plain": [
       "(torch.int64,\n",
       " torch.int64,\n",
       " tensor([ 6,  7,  9, 13]),\n",
       " tensor([-4, -3, -1,  3]),\n",
       " tensor([ 5, 10, 20, 40]),\n",
       " tensor([0.2000, 0.4000, 0.8000, 1.6000]),\n",
       " tensor([    1,    32,  1024, 32768]))"
      ]
     },
     "execution_count": 84,
     "metadata": {},
     "output_type": "execute_result"
    }
   ],
   "source": [
    "x = torch.tensor([1,2,4,8])\n",
    "y = torch.ones(4, dtype=torch.int64)*5\n",
    "x.dtype, y.dtype, x+y, x-y, x*y, x/y, x**y"
   ]
  },
  {
   "cell_type": "code",
   "execution_count": 85,
   "metadata": {},
   "outputs": [
    {
     "data": {
      "text/plain": [
       "(tensor([ 2.7183,  7.3891, 20.0855, 54.5981]),\n",
       " tensor([0.0000, 0.6931, 1.0986, 1.3863]))"
      ]
     },
     "execution_count": 85,
     "metadata": {},
     "output_type": "execute_result"
    }
   ],
   "source": [
    "x = torch.tensor([1,2,3,4])\n",
    "torch.exp(x), torch.log(x)"
   ]
  },
  {
   "cell_type": "code",
   "execution_count": 86,
   "metadata": {},
   "outputs": [
    {
     "data": {
      "text/plain": [
       "(tensor([[1, 2],\n",
       "         [3, 4],\n",
       "         [5, 6],\n",
       "         [7, 8]]),\n",
       " tensor([[1, 2],\n",
       "         [3, 4],\n",
       "         [5, 6],\n",
       "         [7, 8]]),\n",
       " tensor([[1, 2, 5, 6],\n",
       "         [3, 4, 7, 8]]))"
      ]
     },
     "execution_count": 86,
     "metadata": {},
     "output_type": "execute_result"
    }
   ],
   "source": [
    "x = torch.tensor([1,2,3,4]).reshape(-1,2)\n",
    "y = torch.tensor([5,6,7,8]).reshape(-1,2)\n",
    "torch.cat((x, y)), torch.cat((x, y), dim=0), torch.cat((x, y), dim=1)"
   ]
  },
  {
   "cell_type": "code",
   "execution_count": 87,
   "metadata": {},
   "outputs": [
    {
     "data": {
      "text/plain": [
       "(tensor([[False, False],\n",
       "         [ True, False]]),\n",
       " tensor([[ True,  True],\n",
       "         [ True, False]]))"
      ]
     },
     "execution_count": 87,
     "metadata": {},
     "output_type": "execute_result"
    }
   ],
   "source": [
    "x = torch.tensor([1,2,3,4]).reshape(-1,2)\n",
    "y = torch.tensor([5,6,3,8]).reshape(-1,2)\n",
    "z = torch.tensor([1,2,3,8]).reshape(-1,2)\n",
    "\n",
    "x == y, x == z"
   ]
  },
  {
   "cell_type": "code",
   "execution_count": 88,
   "metadata": {},
   "outputs": [
    {
     "data": {
      "text/plain": [
       "tensor(10)"
      ]
     },
     "execution_count": 88,
     "metadata": {},
     "output_type": "execute_result"
    }
   ],
   "source": [
    "x = torch.tensor([1,2,3,4]).reshape(-1,2)\n",
    "x.sum()"
   ]
  },
  {
   "cell_type": "markdown",
   "metadata": {},
   "source": [
    "## 广播机制\n",
    "---\n",
    "- 规则1：如果两个数组的维度数不同，那么维度较少的数组会在前面补1，直到维度数相同。\n",
    "\n",
    "- 规则2：如果两个数组的维度大小不同，但其中一个数组的维度为1，那么可以将该数组沿着该维度进行扩展，使其大小与另一个数组的对应维度相同。\n",
    "\n",
    "- 规则3：如果两个数组的维度大小都不同且都不为1，那么不能进行广播，会引发错误。\n",
    "\n",
    "- 规则4：如果两个数组在某个维度上的大小相同或其中一个数组的大小为1，在该维度上可以进行广播。\n",
    "\n",
    "- 规则5：在进行广播时，输出数组的大小是输入数组大小的最大值。"
   ]
  },
  {
   "cell_type": "code",
   "execution_count": 89,
   "metadata": {},
   "outputs": [
    {
     "data": {
      "text/plain": [
       "(tensor([[0],\n",
       "         [1],\n",
       "         [2]]),\n",
       " tensor([[0, 1]]),\n",
       " tensor([[0, 0],\n",
       "         [0, 1],\n",
       "         [0, 2]]))"
      ]
     },
     "execution_count": 89,
     "metadata": {},
     "output_type": "execute_result"
    }
   ],
   "source": [
    "x = torch.arange(3).reshape(3, 1)\n",
    "y = torch.arange(2).reshape(1, 2)\n",
    "x, y, x*y"
   ]
  },
  {
   "cell_type": "code",
   "execution_count": 90,
   "metadata": {},
   "outputs": [
    {
     "data": {
      "text/plain": [
       "(tensor([[0],\n",
       "         [1],\n",
       "         [2]]),\n",
       " tensor([[0, 1]]),\n",
       " tensor([[0, 0],\n",
       "         [0, 1],\n",
       "         [0, 2]]))"
      ]
     },
     "execution_count": 90,
     "metadata": {},
     "output_type": "execute_result"
    }
   ],
   "source": [
    "x = torch.arange(3).unsqueeze(0).transpose(0, 1)\n",
    "y = torch.arange(2).unsqueeze(0)\n",
    "x, y, x*y"
   ]
  },
  {
   "cell_type": "markdown",
   "metadata": {},
   "source": [
    "## 索引与切片\n",
    "---"
   ]
  },
  {
   "cell_type": "code",
   "execution_count": 91,
   "metadata": {},
   "outputs": [
    {
     "data": {
      "text/plain": [
       "(tensor([[ 0,  1,  2,  3],\n",
       "         [ 4,  5,  6,  7],\n",
       "         [ 8,  9, 10, 11]]),\n",
       " tensor([ 8,  9, 10, 11]),\n",
       " tensor([[ 4,  5,  6,  7],\n",
       "         [ 8,  9, 10, 11]]))"
      ]
     },
     "execution_count": 91,
     "metadata": {},
     "output_type": "execute_result"
    }
   ],
   "source": [
    "x = torch.arange(12).reshape(3,4)\n",
    "x, x[-1], x[1:3]"
   ]
  },
  {
   "cell_type": "code",
   "execution_count": 92,
   "metadata": {},
   "outputs": [
    {
     "data": {
      "text/plain": [
       "tensor([[ 0, 12, 12,  3],\n",
       "        [ 4, 12, 12,  7],\n",
       "        [ 8, 12, 12, 11]])"
      ]
     },
     "execution_count": 92,
     "metadata": {},
     "output_type": "execute_result"
    }
   ],
   "source": [
    "x = torch.arange(12).reshape(3, 4)\n",
    "x[:, 1:3] = 12\n",
    "x"
   ]
  },
  {
   "cell_type": "markdown",
   "metadata": {},
   "source": [
    "## 原地操作\n",
    "---"
   ]
  },
  {
   "cell_type": "code",
   "execution_count": 93,
   "metadata": {},
   "outputs": [
    {
     "data": {
      "text/plain": [
       "(140063010972176, 140063025210736, 140063025210736)"
      ]
     },
     "execution_count": 93,
     "metadata": {},
     "output_type": "execute_result"
    }
   ],
   "source": [
    "x = torch.randn(3)\n",
    "y = torch.zeros_like(x)\n",
    "id_x1 = id(x)\n",
    "x = x + y\n",
    "id_x2 = id(x)\n",
    "x[:] = x + y\n",
    "id_x3 = id(x)\n",
    "id_x1, id_x2, id_x3"
   ]
  },
  {
   "cell_type": "markdown",
   "metadata": {},
   "source": [
    "## Tensor对象转化\n",
    "---"
   ]
  },
  {
   "cell_type": "code",
   "execution_count": 94,
   "metadata": {},
   "outputs": [
    {
     "data": {
      "text/plain": [
       "(torch.Tensor, numpy.ndarray)"
      ]
     },
     "execution_count": 94,
     "metadata": {},
     "output_type": "execute_result"
    }
   ],
   "source": [
    "x = torch.arange(12).reshape(3, 4)\n",
    "y = x.numpy()\n",
    "type(x), type(y)"
   ]
  },
  {
   "cell_type": "code",
   "execution_count": 95,
   "metadata": {},
   "outputs": [
    {
     "data": {
      "text/plain": [
       "(tensor([3.6000]), 3.5999999046325684, 3.5999999046325684, 3)"
      ]
     },
     "execution_count": 95,
     "metadata": {},
     "output_type": "execute_result"
    }
   ],
   "source": [
    "x = torch.tensor([3.6])\n",
    "x, x.item(), float(x), int(x)"
   ]
  },
  {
   "cell_type": "markdown",
   "metadata": {},
   "source": [
    "## Exercises\n",
    "---"
   ]
  },
  {
   "cell_type": "markdown",
   "metadata": {},
   "source": [
    "1. 运行本节中的代码。将本节中的条件语句X == Y更改为X < Y或X > Y，然后看看你可以得到什么样的张量"
   ]
  },
  {
   "cell_type": "code",
   "execution_count": 96,
   "metadata": {},
   "outputs": [
    {
     "data": {
      "text/plain": [
       "(tensor([[ True,  True,  True, False],\n",
       "         [False,  True, False, False],\n",
       "         [ True, False,  True, False]]),\n",
       " tensor([[False, False, False,  True],\n",
       "         [ True, False,  True,  True],\n",
       "         [False,  True, False,  True]]))"
      ]
     },
     "execution_count": 96,
     "metadata": {},
     "output_type": "execute_result"
    }
   ],
   "source": [
    "x = torch.randn(12).reshape(3,4)\n",
    "y = torch.randn(12).reshape(3,4)\n",
    "x < y, x > y"
   ]
  },
  {
   "cell_type": "markdown",
   "metadata": {},
   "source": [
    "2. 用其他形状（例如三维张量）替换广播机制中按元素操作的两个张量。结果是否与预期相同？"
   ]
  },
  {
   "cell_type": "code",
   "execution_count": 97,
   "metadata": {},
   "outputs": [
    {
     "data": {
      "text/plain": [
       "tensor([[[[ 0,  1,  2,  3,  4,  5],\n",
       "          [ 7,  8,  9, 10, 11, 12]],\n",
       "\n",
       "         [[14, 15, 16, 17, 18, 19],\n",
       "          [21, 22, 23, 24, 25, 26]]],\n",
       "\n",
       "\n",
       "        [[[ 4,  5,  6,  7,  8,  9],\n",
       "          [11, 12, 13, 14, 15, 16]],\n",
       "\n",
       "         [[18, 19, 20, 21, 22, 23],\n",
       "          [25, 26, 27, 28, 29, 30]]],\n",
       "\n",
       "\n",
       "        [[[ 8,  9, 10, 11, 12, 13],\n",
       "          [15, 16, 17, 18, 19, 20]],\n",
       "\n",
       "         [[22, 23, 24, 25, 26, 27],\n",
       "          [29, 30, 31, 32, 33, 34]]],\n",
       "\n",
       "\n",
       "        [[[12, 13, 14, 15, 16, 17],\n",
       "          [19, 20, 21, 22, 23, 24]],\n",
       "\n",
       "         [[26, 27, 28, 29, 30, 31],\n",
       "          [33, 34, 35, 36, 37, 38]]],\n",
       "\n",
       "\n",
       "        [[[16, 17, 18, 19, 20, 21],\n",
       "          [23, 24, 25, 26, 27, 28]],\n",
       "\n",
       "         [[30, 31, 32, 33, 34, 35],\n",
       "          [37, 38, 39, 40, 41, 42]]],\n",
       "\n",
       "\n",
       "        [[[20, 21, 22, 23, 24, 25],\n",
       "          [27, 28, 29, 30, 31, 32]],\n",
       "\n",
       "         [[34, 35, 36, 37, 38, 39],\n",
       "          [41, 42, 43, 44, 45, 46]]]])"
      ]
     },
     "execution_count": 97,
     "metadata": {},
     "output_type": "execute_result"
    }
   ],
   "source": [
    "x = torch.arange(24).reshape(2, 2, 6)\n",
    "y = torch.arange(24).reshape(6, 2, 2, 1)\n",
    "x+y"
   ]
  }
 ],
 "metadata": {
  "kernelspec": {
   "display_name": "base",
   "language": "python",
   "name": "python3"
  },
  "language_info": {
   "codemirror_mode": {
    "name": "ipython",
    "version": 3
   },
   "file_extension": ".py",
   "mimetype": "text/x-python",
   "name": "python",
   "nbconvert_exporter": "python",
   "pygments_lexer": "ipython3",
   "version": "3.11.5"
  }
 },
 "nbformat": 4,
 "nbformat_minor": 2
}
