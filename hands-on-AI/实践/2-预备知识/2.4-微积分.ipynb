{
 "cells": [
  {
   "cell_type": "code",
   "execution_count": 2,
   "metadata": {},
   "outputs": [],
   "source": [
    "import numpy as np\n",
    "import matplotlib.pyplot as plt"
   ]
  },
  {
   "cell_type": "markdown",
   "metadata": {},
   "source": [
    "## 导数和微分\n",
    "---"
   ]
  },
  {
   "cell_type": "code",
   "execution_count": 3,
   "metadata": {},
   "outputs": [],
   "source": [
    "def f(x):\n",
    "    return 3*x**2-4*x\n",
    "\n",
    "def numerical_lim(f):\n",
    "    def f_(x, h):\n",
    "        return (f(x+h)-f(x))/h\n",
    "    return f_\n",
    "\n",
    "df = numerical_lim(f)\n"
   ]
  },
  {
   "cell_type": "code",
   "execution_count": 4,
   "metadata": {},
   "outputs": [
    {
     "name": "stdout",
     "output_type": "stream",
     "text": [
      "h=0.10000, numerical limit=2.30000\n",
      "h=0.01000, numerical limit=2.03000\n",
      "h=0.00100, numerical limit=2.00300\n",
      "h=0.00010, numerical limit=2.00030\n",
      "h=0.00001, numerical limit=2.00003\n"
     ]
    }
   ],
   "source": [
    "h = 0.1\n",
    "for i in range(5):\n",
    "    print(f'h={h:.5f}, numerical limit={df(1, h):.5f}')\n",
    "    h *= 0.1"
   ]
  },
  {
   "cell_type": "code",
   "execution_count": 8,
   "metadata": {},
   "outputs": [
    {
     "data": {
      "image/png": "[encoded data removed]",
      "text/plain": [
       "<Figure size 350x250 with 1 Axes>"
      ]
     },
     "metadata": {},
     "output_type": "display_data"
    }
   ],
   "source": [
    "x = np.arange(0, 3, 0.1)\n",
    "y = [f(x), 2*x-3]\n",
    "\n",
    "plt.rcParams['figure.figsize'] = (3.5, 2.5)\n",
    "fmts = ('-', 'm--', 'g-.', 'r:')\n",
    "\n",
    "legends = ['f(x)', 'Tangent line(x=1)']\n",
    "xscale = 'linear'\n",
    "yscale = 'linear'\n",
    "xlim = None\n",
    "ylim = None\n",
    "axes = plt.gca()\n",
    "axes.cla()\n",
    "axes.plot(x, y[0], fmts[0])\n",
    "axes.plot(x, y[1], fmts[1])\n",
    "axes.set_xlabel('x')\n",
    "axes.set_ylabel('f(x)')\n",
    "axes.set_xlim(xlim)\n",
    "axes.set_ylim(ylim)\n",
    "axes.set_xscale(xscale)\n",
    "axes.set_yscale(yscale)\n",
    "axes.legend(legends)\n",
    "axes.grid()"
   ]
  },
  {
   "cell_type": "code",
   "execution_count": 11,
   "metadata": {},
   "outputs": [
    {
     "data": {
      "text/plain": [
       "'knowhow --- matplot绘图\\n1. 绘图基础知识:\\n- 画板figure,画纸Axes/Sublpot,可多图绘画,如果事先不声明画板画板，默认是创建一个画板一个画纸\\n- 画纸上最上方是标题title,用来给图形起名字\\n- 坐标轴Axis,横轴叫x坐标轴xlabel,纵轴叫y坐标轴ylabel\\n- 图例Legend 代表图形里的内容\\n- 网格Grid,图形中的虚线,True显示网格\\n- 点 Markers:表示点的形状\\n2. 常用图形\\n- 点 散点图scatter 相关性 数值性数据\\n- 线 折线图plot 趋势图 时间序列数据\\n- 柱 柱状图bar 分类 分组查看数据\\n- 多维 热力图heat 多维度数据 颜色热力图\\n- 其他 box箱线图 hist直方图 pie饼图 area面积图 \\n'"
      ]
     },
     "execution_count": 11,
     "metadata": {},
     "output_type": "execute_result"
    }
   ],
   "source": [
    "\"\"\"knowhow --- matplotlib绘图\n",
    "\n",
    "1. 绘图基础知识:\n",
    "- 画板figure,画纸Axes/Sublpot,可多图绘画,如果事先不声明画板画板，默认是创建一个画板一个画纸\n",
    "- 画纸上最上方是标题title,用来给图形起名字\n",
    "- 坐标轴Axis,横轴叫x坐标轴xlabel,纵轴叫y坐标轴ylabel\n",
    "- 图例Legend 代表图形里的内容\n",
    "- 网格Grid,图形中的虚线,True显示网格\n",
    "- 点 Markers:表示点的形状\n",
    "\n",
    "2. 常用图形\n",
    "- 点 散点图scatter 相关性 数值性数据\n",
    "- 线 折线图plot 趋势图 时间序列数据\n",
    "- 柱 柱状图bar 分类 分组查看数据\n",
    "- 多维 热力图heat 多维度数据 颜色热力图\n",
    "- 其他 box箱线图 hist直方图 pie饼图 area面积图 \n",
    "\"\"\""
   ]
  },
  {
   "cell_type": "markdown",
   "metadata": {},
   "source": [
    "<img src=\"./imgs/2023-10-24_19-31.png\" style=\"width:50%;height:50%\"/><img src=\"./imgs/2023-10-24_19-33.png\" style=\"width:50%;height:50%\"/>"
   ]
  },
  {
   "cell_type": "markdown",
   "metadata": {},
   "source": [
    "## 偏导数\n",
    "---"
   ]
  },
  {
   "cell_type": "markdown",
   "metadata": {},
   "source": [
    "## 梯度\n",
    "---"
   ]
  },
  {
   "cell_type": "markdown",
   "metadata": {},
   "source": [
    "## 链式法则\n",
    "---"
   ]
  },
  {
   "cell_type": "markdown",
   "metadata": {},
   "source": [
    "## Exercises\n",
    "---"
   ]
  },
  {
   "cell_type": "markdown",
   "metadata": {},
   "source": [
    "1. 绘制函数$y=f(x)=x^3-1/x$和其在x=1处切线的图像"
   ]
  },
  {
   "cell_type": "markdown",
   "metadata": {},
   "source": [
    "2. 求函数$f(x)=3x_1^2+5e^{x_2}$的梯度"
   ]
  },
  {
   "cell_type": "markdown",
   "metadata": {},
   "source": [
    "3. 函数$f(x)=||x||_2$的梯度是什么?"
   ]
  },
  {
   "cell_type": "markdown",
   "metadata": {},
   "source": [
    "4. 尝试写出函数$u=f(x,y,z)$，其中$x=x(a,b)$，$y=y(a,b)$，$z=z(a,b)$的链式法则"
   ]
  }
 ],
 "metadata": {
  "kernelspec": {
   "display_name": "base",
   "language": "python",
   "name": "python3"
  },
  "language_info": {
   "codemirror_mode": {
    "name": "ipython",
    "version": 3
   },
   "file_extension": ".py",
   "mimetype": "text/x-python",
   "name": "python",
   "nbconvert_exporter": "python",
   "pygments_lexer": "ipython3",
   "version": "3.11.5"
  }
 },
 "nbformat": 4,
 "nbformat_minor": 2
}
